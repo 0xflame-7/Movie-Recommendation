{
  "cells": [
    {
      "cell_type": "markdown",
      "metadata": {
        "colab_type": "text",
        "id": "view-in-github"
      },
      "source": [
        "<a href=\"https://colab.research.google.com/github/0xflame-7/Movie-Recommendation/blob/main/ML_Report.ipynb\" target=\"_parent\"><img src=\"https://colab.research.google.com/assets/colab-badge.svg\" alt=\"Open In Colab\"/></a>"
      ]
    },
    {
      "cell_type": "code",
      "execution_count": 2,
      "metadata": {
        "id": "tOuCiLwxCzyp"
      },
      "outputs": [],
      "source": [
        "# Task Required\n",
        "# Collect a dataset with movie details, user rating and genres\n",
        "# Implement collaborative filtering or content-based filtering using Python\n",
        "# Evaluate the system's accuracy using metrics like RMSE or MAE\n",
        "\n",
        "# Analysis Task\n",
        "# Identify top-rated movies in different geners\n",
        "# Implement collaborative filtering for personalized recommendations\n",
        "# Analyze user engagement based on ratings and reviews\n",
        "# Visualize popular genres and their trends over time\n",
        "# Compare the performance of collaborative and content-based methods\n",
        "# Evaluate the system using metrics like RMSE and MAE\n",
        "# Provide insights into user perferences for gener-based suggestions"
      ]
    },
    {
      "cell_type": "code",
      "execution_count": null,
      "metadata": {
        "id": "hpTG7ivxKPkt"
      },
      "outputs": [],
      "source": []
    },
    {
      "cell_type": "code",
      "execution_count": null,
      "metadata": {
        "id": "xVVj4AclI08G"
      },
      "outputs": [],
      "source": []
    }
  ],
  "metadata": {
    "colab": {
      "authorship_tag": "ABX9TyP5ytI50gsgd6VUfIk9Du6p",
      "include_colab_link": true,
      "provenance": []
    },
    "kernelspec": {
      "display_name": "movie-recommendation",
      "language": "python",
      "name": "python3"
    },
    "language_info": {
      "name": "python",
      "version": "3.10.11"
    }
  },
  "nbformat": 4,
  "nbformat_minor": 0
}
